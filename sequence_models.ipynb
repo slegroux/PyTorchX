{
 "cells": [
  {
   "cell_type": "markdown",
   "metadata": {},
   "source": [
    "# Time sequence primer using Pytorch"
   ]
  },
  {
   "cell_type": "code",
   "execution_count": 378,
   "metadata": {},
   "outputs": [
    {
     "data": {
      "text/plain": [
       "'1.2.0'"
      ]
     },
     "execution_count": 378,
     "metadata": {},
     "output_type": "execute_result"
    }
   ],
   "source": [
    "import torch\n",
    "torch.__version__"
   ]
  },
  {
   "cell_type": "code",
   "execution_count": 379,
   "metadata": {},
   "outputs": [],
   "source": [
    "from torch.utils import data\n",
    "import torch.nn as nn\n",
    "import numpy as np\n",
    "from matplotlib import pyplot as plt\n",
    "%matplotlib inline\n",
    "from torch.utils.tensorboard import SummaryWriter\n",
    "from IPython import embed\n",
    "import pandas as pd"
   ]
  },
  {
   "cell_type": "markdown",
   "metadata": {},
   "source": [
    "## Time varying signal"
   ]
  },
  {
   "cell_type": "code",
   "execution_count": 184,
   "metadata": {},
   "outputs": [
    {
     "data": {
      "text/plain": [
       "[<matplotlib.lines.Line2D at 0x7f30c8261da0>]"
      ]
     },
     "execution_count": 184,
     "metadata": {},
     "output_type": "execute_result"
    },
    {
     "data": {
      "image/png": "[encoded data removed]",
      "text/plain": [
       "<Figure size 432x288 with 1 Axes>"
      ]
     },
     "metadata": {
      "needs_background": "light"
     },
     "output_type": "display_data"
    }
   ],
   "source": [
    "N = 1000\n",
    "t = np.arange(N)\n",
    "x = np.sin(0.01*t) + 0.2 * np.random.normal(size=N)\n",
    "plt.plot(x)"
   ]
  },
  {
   "cell_type": "markdown",
   "metadata": {},
   "source": [
    "$$y_t = data_t, x_t = data_{t-1}... data_{t-1-M}$$"
   ]
  },
  {
   "cell_type": "markdown",
   "metadata": {},
   "source": [
    "## Define features & labels"
   ]
  },
  {
   "cell_type": "markdown",
   "metadata": {},
   "source": [
    "- input is a history of points of size k: $x[0:k]$\n",
    "- output is the point at time k+1 given k points: $x[k]$"
   ]
  },
  {
   "cell_type": "code",
   "execution_count": 185,
   "metadata": {},
   "outputs": [
    {
     "name": "stdout",
     "output_type": "stream",
     "text": [
      "1 6\n",
      "[-0.11661362  0.19604669  0.16984733 -0.15508892  0.15699403]\n",
      "1 7\n",
      "[-0.11661362  0.19604669  0.16984733 -0.15508892  0.15699403  0.53307748]\n",
      "6\n",
      "0.5330774770530665\n"
     ]
    }
   ],
   "source": [
    "M = 5\n",
    "i = 1\n",
    "# history of 10 for signal x: x[0:10]\n",
    "print(i, i+M)\n",
    "print(x[i:i + (M)])\n",
    "print(i, i+(M+1))\n",
    "print(x[i:i + (M+1)])\n",
    "print(i+M)\n",
    "print(x[i+M])"
   ]
  },
  {
   "cell_type": "code",
   "execution_count": 186,
   "metadata": {},
   "outputs": [],
   "source": [
    "X = []\n",
    "y = []\n",
    "for i in range(0, N-M):\n",
    "    X.append(x[i:(i+M)])\n",
    "    y.append(x[i+M])"
   ]
  },
  {
   "cell_type": "code",
   "execution_count": 192,
   "metadata": {},
   "outputs": [
    {
     "name": "stdout",
     "output_type": "stream",
     "text": [
      "[ 0.20247964 -0.11661362  0.19604669  0.16984733 -0.15508892] 0.15699402885720062\n",
      "[-0.11661362  0.19604669  0.16984733 -0.15508892  0.15699403] 0.5330774770530665\n"
     ]
    }
   ],
   "source": [
    "print(X[0],y[0])\n",
    "print(X[1],y[1])"
   ]
  },
  {
   "cell_type": "code",
   "execution_count": 200,
   "metadata": {},
   "outputs": [
    {
     "name": "stdout",
     "output_type": "stream",
     "text": [
      "tensor([ 0.2025, -0.1166,  0.1960,  0.1698, -0.1551], dtype=torch.float64)\n",
      "<class 'torch.Tensor'>\n"
     ]
    },
    {
     "data": {
      "text/plain": [
       "995"
      ]
     },
     "execution_count": 200,
     "metadata": {},
     "output_type": "execute_result"
    }
   ],
   "source": [
    "tutu = torch.from_numpy(X[0])\n",
    "print(tutu)\n",
    "print(type(tutu))\n",
    "len(X)"
   ]
  },
  {
   "cell_type": "markdown",
   "metadata": {},
   "source": [
    "## Train / Test partition"
   ]
  },
  {
   "cell_type": "code",
   "execution_count": 207,
   "metadata": {},
   "outputs": [
    {
     "name": "stdout",
     "output_type": "stream",
     "text": [
      "199\n",
      "796\n"
     ]
    }
   ],
   "source": [
    "test_size = int(len(ds) * 0.20)\n",
    "train_size = int(len(ds) * 0.8)\n",
    "print(test_size)\n",
    "print(train_size)"
   ]
  },
  {
   "cell_type": "code",
   "execution_count": 215,
   "metadata": {},
   "outputs": [],
   "source": [
    "X_train, X_test = X[0:train_size], X[train_size:]\n",
    "y_train, y_test = y[0:train_size], y[train_size:]"
   ]
  },
  {
   "cell_type": "markdown",
   "metadata": {},
   "source": [
    "## Pytorch Dataset"
   ]
  },
  {
   "cell_type": "markdown",
   "metadata": {},
   "source": [
    "this will allow use to use pytorch dataloader class to define batches and potentially paralellize processing per batch"
   ]
  },
  {
   "cell_type": "code",
   "execution_count": 216,
   "metadata": {},
   "outputs": [],
   "source": [
    "class TimeDataset(data.Dataset):\n",
    "  'Characterizes a dataset for PyTorch'\n",
    "  def __init__(self, features, labels):\n",
    "        'Initialization'\n",
    "        self.labels = labels\n",
    "        self.features = features\n",
    "        self.dtype = torch.cuda.FloatTensor if torch.cuda.is_available() else torch.FloatTensor\n",
    "        \n",
    "  def __len__(self):\n",
    "        'Denotes the total number of samples'\n",
    "        return len(self.features)\n",
    "\n",
    "  def __getitem__(self, index):\n",
    "        'Generates one sample of data'\n",
    "\n",
    "        # Load data and get label\n",
    "        X = torch.from_numpy(self.features[index])\n",
    "        # expecting numpy array not float\n",
    "        y = torch.from_numpy(np.array(self.labels[index]))\n",
    "        sample = {'X': X, 'y':y }\n",
    "        return sample"
   ]
  },
  {
   "cell_type": "code",
   "execution_count": 217,
   "metadata": {},
   "outputs": [],
   "source": [
    "ds = TimeDataset(X,y)"
   ]
  },
  {
   "cell_type": "code",
   "execution_count": 218,
   "metadata": {},
   "outputs": [
    {
     "name": "stdout",
     "output_type": "stream",
     "text": [
      "{'X': tensor([ 0.2025, -0.1166,  0.1960,  0.1698, -0.1551], dtype=torch.float64), 'y': tensor(0.1570, dtype=torch.float64)}\n"
     ]
    }
   ],
   "source": [
    "print(ds[0])"
   ]
  },
  {
   "cell_type": "code",
   "execution_count": 235,
   "metadata": {},
   "outputs": [],
   "source": [
    "train_ds = TimeDataset(X_train, y_train)\n",
    "test_ds = TimeDataset(X_test, y_test)"
   ]
  },
  {
   "cell_type": "code",
   "execution_count": 236,
   "metadata": {},
   "outputs": [
    {
     "name": "stdout",
     "output_type": "stream",
     "text": [
      "{'X': tensor([1.0710, 1.1669, 0.9224, 1.2145, 1.2816], dtype=torch.float64), 'y': tensor(0.6334, dtype=torch.float64)}\n"
     ]
    }
   ],
   "source": [
    "print(test_ds[0])"
   ]
  },
  {
   "cell_type": "markdown",
   "metadata": {},
   "source": [
    "## Pytorch DataLoader"
   ]
  },
  {
   "cell_type": "code",
   "execution_count": 431,
   "metadata": {},
   "outputs": [],
   "source": [
    "params_train = {'batch_size': 64,\n",
    "          'shuffle': False,\n",
    "          'num_workers': 1\n",
    "         }\n",
    "\n",
    "params_test = {'batch_size': 64,\n",
    "          'shuffle': False,\n",
    "          'num_workers': 1\n",
    "         }"
   ]
  },
  {
   "cell_type": "code",
   "execution_count": 432,
   "metadata": {},
   "outputs": [],
   "source": [
    "train_dl = data.DataLoader(train_ds, **params_train)\n",
    "test_dl = data.DataLoader(test_ds, **params_test)"
   ]
  },
  {
   "cell_type": "code",
   "execution_count": 399,
   "metadata": {},
   "outputs": [
    {
     "data": {
      "text/plain": [
       "torch.utils.data.dataloader.DataLoader"
      ]
     },
     "execution_count": 399,
     "metadata": {},
     "output_type": "execute_result"
    }
   ],
   "source": [
    "type(test_dl)"
   ]
  },
  {
   "cell_type": "code",
   "execution_count": 400,
   "metadata": {},
   "outputs": [
    {
     "name": "stdout",
     "output_type": "stream",
     "text": [
      "tensor([0.6334, 0.7057, 0.4882, 0.8916, 0.6893, 0.9930, 0.9350, 0.9575, 0.6522,\n",
      "        1.1714, 0.9996, 0.7385, 0.9610, 1.5053, 0.8910, 0.7878, 0.5056, 0.9938,\n",
      "        0.8523, 0.6260, 0.6645, 0.9252, 0.7337, 1.1486, 1.1858, 0.6544, 0.7366,\n",
      "        0.6469, 0.9560, 0.6884, 0.9186, 1.0506, 1.2718, 0.7057, 0.9691, 0.6298,\n",
      "        0.9763, 0.9824, 0.9054, 0.6474, 0.9642, 0.6363, 1.1438, 1.1311, 1.0452,\n",
      "        0.9463, 0.7153, 0.9894, 0.8138, 0.8223, 0.9468, 0.4074, 0.9262, 0.4953,\n",
      "        1.1136, 0.6233, 0.5752, 1.0444, 1.1212, 0.8635, 0.7356, 0.8113, 0.7406,\n",
      "        0.7319], dtype=torch.float64)\n",
      "tensor([ 6.0146e-01,  7.0996e-01,  6.5055e-01,  6.6337e-01,  1.0156e+00,\n",
      "         5.8858e-01,  5.0252e-01,  8.0628e-01,  7.8919e-01,  9.9717e-01,\n",
      "         5.5548e-01,  7.3197e-01,  7.4661e-01,  6.8224e-01,  5.4447e-01,\n",
      "         3.1418e-01,  5.8170e-01,  2.4736e-01,  4.4108e-01,  5.2195e-01,\n",
      "         4.3585e-01,  4.7535e-01,  4.2197e-01,  6.6000e-01,  4.3769e-01,\n",
      "         6.7713e-02,  6.6988e-01,  3.0224e-01,  6.7261e-01,  3.6971e-01,\n",
      "         5.1099e-01,  5.7078e-01,  6.2416e-01,  4.1106e-01,  4.1099e-01,\n",
      "         3.1056e-01,  2.2493e-01,  3.6132e-01,  4.3169e-01,  2.5850e-01,\n",
      "         9.5481e-01,  4.6756e-01,  5.4102e-01,  4.1025e-01,  8.3313e-01,\n",
      "         2.9460e-01,  3.8967e-01,  5.5935e-01,  3.9566e-01,  2.5052e-01,\n",
      "         8.6147e-02,  2.3070e-01,  5.3766e-01, -3.6969e-04, -1.0966e-01,\n",
      "        -3.0712e-01,  3.1710e-01,  2.8170e-01,  3.2214e-01,  4.1615e-01,\n",
      "         6.7642e-01, -9.1466e-02,  1.4103e-01,  5.7739e-01],\n",
      "       dtype=torch.float64)\n",
      "tensor([ 0.0445, -0.0171,  0.0150, -0.0480, -0.1409, -0.0413,  0.3136, -0.0770,\n",
      "        -0.0148, -0.2529,  0.1235, -0.0485,  0.1126, -0.1433, -0.0834,  0.2109,\n",
      "         0.0263,  0.0020,  0.2261, -0.2391, -0.0360, -0.3798,  0.1094,  0.1850,\n",
      "        -0.1348, -0.0294, -0.5685, -0.1162, -0.0791, -0.1339,  0.1299, -0.1525,\n",
      "        -0.2207, -0.8682,  0.0988,  0.0217, -0.1668, -0.6329, -0.3133, -0.4876,\n",
      "        -0.2698, -0.0471, -0.2798, -0.2344, -0.3277, -0.6140,  0.0280, -0.3897,\n",
      "        -0.3699, -0.4552,  0.0405, -0.5083, -0.1041, -0.3422, -0.4642, -0.6897,\n",
      "        -0.6023, -1.0333, -0.3889, -0.6888, -0.6335, -0.1074, -0.6461, -0.2355],\n",
      "       dtype=torch.float64)\n",
      "tensor([-0.4482, -0.4108, -1.0254, -0.1513, -0.0093, -0.6067, -0.5646],\n",
      "       dtype=torch.float64)\n"
     ]
    }
   ],
   "source": [
    "for i, batch in enumerate(test_dl):\n",
    "    print(batch['y'])"
   ]
  },
  {
   "cell_type": "markdown",
   "metadata": {},
   "source": [
    "## Model"
   ]
  },
  {
   "cell_type": "code",
   "execution_count": 385,
   "metadata": {},
   "outputs": [
    {
     "name": "stdout",
     "output_type": "stream",
     "text": [
      "[1.07099295 1.1668531  0.92240677 1.21453613 1.28159232]\n"
     ]
    }
   ],
   "source": [
    "print(test_dl.dataset.features[0])"
   ]
  },
  {
   "cell_type": "code",
   "execution_count": 244,
   "metadata": {},
   "outputs": [
    {
     "name": "stdout",
     "output_type": "stream",
     "text": [
      "{'batch_size': 64, 'shuffle': True, 'num_workers': 1}\n"
     ]
    }
   ],
   "source": [
    "print(params)"
   ]
  },
  {
   "cell_type": "code",
   "execution_count": 245,
   "metadata": {},
   "outputs": [
    {
     "data": {
      "text/plain": [
       "64"
      ]
     },
     "execution_count": 245,
     "metadata": {},
     "output_type": "execute_result"
    }
   ],
   "source": [
    "params['batch_size']"
   ]
  },
  {
   "cell_type": "code",
   "execution_count": 433,
   "metadata": {},
   "outputs": [],
   "source": [
    "n_in = len(test_dl.dataset.features[0])\n",
    "n_out = 1\n",
    "n_h = 10"
   ]
  },
  {
   "cell_type": "code",
   "execution_count": 434,
   "metadata": {},
   "outputs": [],
   "source": [
    "def weights_init(m):\n",
    "    if isinstance(m, nn.Linear):\n",
    "        nn.init.xavier_normal_(m.weight.data)\n",
    "        m.bias.data.zero_()\n",
    "        #nn.init.xavier_normal(m.bias)\n",
    "        # nn.init.xavier_normal_(m.weight.data)\n",
    "        # nn.init.normal_(m.bias.data)\n",
    "        \n",
    "class VanillaMLP(nn.Module):\n",
    "    def __init__(self, n_in, n_h, n_out):\n",
    "        super(VanillaMLP, self).__init__()\n",
    "        self.layers = nn.Sequential(\n",
    "            nn.Linear(n_in, n_h),\n",
    "            nn.ReLU(),\n",
    "            nn.Linear(n_h,n_out)\n",
    "        )\n",
    "        \n",
    "\n",
    "    def forward(self, x):\n",
    "        pred = self.layers(x)\n",
    "        return pred\n",
    "    "
   ]
  },
  {
   "cell_type": "code",
   "execution_count": 435,
   "metadata": {},
   "outputs": [
    {
     "name": "stdout",
     "output_type": "stream",
     "text": [
      "VanillaMLP(\n",
      "  (layers): Sequential(\n",
      "    (0): Linear(in_features=5, out_features=10, bias=True)\n",
      "    (1): ReLU()\n",
      "    (2): Linear(in_features=10, out_features=1, bias=True)\n",
      "  )\n",
      ")\n"
     ]
    }
   ],
   "source": [
    "model = VanillaMLP(n_in, n_h, n_out).float()\n",
    "model.apply(weights_init)\n",
    "print(model)"
   ]
  },
  {
   "cell_type": "code",
   "execution_count": 436,
   "metadata": {},
   "outputs": [],
   "source": [
    "#optimizer = torch.optim.Adam(model.parameters(), lr=0.01)\n",
    "optimizer = torch.optim.SGD(model.parameters(), lr=0.01)"
   ]
  },
  {
   "cell_type": "code",
   "execution_count": 437,
   "metadata": {},
   "outputs": [],
   "source": [
    "loss_fn = nn.MSELoss()"
   ]
  },
  {
   "cell_type": "markdown",
   "metadata": {},
   "source": [
    "## Training"
   ]
  },
  {
   "cell_type": "code",
   "execution_count": 438,
   "metadata": {},
   "outputs": [],
   "source": [
    "writer = SummaryWriter()"
   ]
  },
  {
   "cell_type": "code",
   "execution_count": 439,
   "metadata": {},
   "outputs": [],
   "source": [
    "epochs = 100"
   ]
  },
  {
   "cell_type": "code",
   "execution_count": 442,
   "metadata": {},
   "outputs": [
    {
     "name": "stdout",
     "output_type": "stream",
     "text": [
      "epoch : 0, train loss : 0.0855, valid loss : 0.0960 \n",
      "epoch : 10, train loss : 0.0850, valid loss : 0.0957 \n",
      "epoch : 20, train loss : 0.0846, valid loss : 0.0954 \n",
      "epoch : 30, train loss : 0.0843, valid loss : 0.0952 \n",
      "epoch : 40, train loss : 0.0840, valid loss : 0.0950 \n",
      "epoch : 50, train loss : 0.0837, valid loss : 0.0948 \n",
      "epoch : 60, train loss : 0.0834, valid loss : 0.0946 \n",
      "epoch : 70, train loss : 0.0832, valid loss : 0.0944 \n",
      "epoch : 80, train loss : 0.0830, valid loss : 0.0942 \n",
      "epoch : 90, train loss : 0.0828, valid loss : 0.0940 \n"
     ]
    }
   ],
   "source": [
    "mean_train_losses = []\n",
    "mean_valid_losses = []\n",
    "valid_acc_list = []\n",
    "\n",
    "for epoch in range(epochs):\n",
    "    model.train()\n",
    "    train_losses = []\n",
    "    valid_losses = []\n",
    "    for i, batch in enumerate(train_dl):\n",
    "        optimizer.zero_grad()\n",
    "#        embed()\n",
    "        y_hat = model(batch['X'].float())\n",
    "        loss = loss_fn(y_hat, batch['y'].float())\n",
    "        writer.add_scalar('loss/train',loss, epoch)\n",
    "        loss.backward()\n",
    "        optimizer.step()\n",
    "        train_losses.append(loss.item())\n",
    "\n",
    "    model.eval()\n",
    "    correct = 0\n",
    "    total = 0\n",
    "    with torch.no_grad():\n",
    "        for i, batch in enumerate(test_dl):\n",
    "            y_hat = model(batch['X'].float())\n",
    "            loss = loss_fn(y_hat, batch['y'].float())\n",
    "            writer.add_scalar('loss/valid',loss, epoch)\n",
    "            valid_losses.append(loss.item())\n",
    "\n",
    "    mean_train_losses.append(np.mean(train_losses))\n",
    "    mean_valid_losses.append(np.mean(valid_losses))\n",
    "\n",
    "    if (epoch%10 == 0):\n",
    "        print('epoch : {}, train loss : {:.4f}, valid loss : {:.4f} '\\\n",
    "              .format(epoch, np.mean(train_losses), np.mean(valid_losses)))\n",
    "\n",
    "writer.close()"
   ]
  },
  {
   "cell_type": "markdown",
   "metadata": {},
   "source": [
    "## Plot"
   ]
  },
  {
   "cell_type": "markdown",
   "metadata": {},
   "source": [
    "### matplotlib"
   ]
  },
  {
   "cell_type": "code",
   "execution_count": 443,
   "metadata": {},
   "outputs": [
    {
     "data": {
      "text/plain": [
       "<matplotlib.legend.Legend at 0x7f30a811eef0>"
      ]
     },
     "execution_count": 443,
     "metadata": {},
     "output_type": "execute_result"
    },
    {
     "data": {
      "image/png": "[encoded data removed]",
      "text/plain": [
       "<Figure size 432x288 with 1 Axes>"
      ]
     },
     "metadata": {
      "needs_background": "light"
     },
     "output_type": "display_data"
    }
   ],
   "source": [
    "fig, ax1 = plt.subplots(nrows=1) #, figsize=(15, 10))\n",
    "ax1.plot(mean_train_losses, label='train')\n",
    "ax1.plot(mean_valid_losses, label='valid')\n",
    "lines, labels = ax1.get_legend_handles_labels()\n",
    "ax1.legend(lines, labels, loc='best')"
   ]
  },
  {
   "cell_type": "markdown",
   "metadata": {},
   "source": [
    "### Tensorboard "
   ]
  },
  {
   "cell_type": "code",
   "execution_count": null,
   "metadata": {},
   "outputs": [],
   "source": [
    "!tensorboard --logdir runs"
   ]
  },
  {
   "cell_type": "markdown",
   "metadata": {},
   "source": [
    "## Predict"
   ]
  },
  {
   "cell_type": "code",
   "execution_count": 446,
   "metadata": {},
   "outputs": [
    {
     "data": {
      "text/plain": [
       "list"
      ]
     },
     "execution_count": 446,
     "metadata": {},
     "output_type": "execute_result"
    }
   ],
   "source": [
    "type(X)"
   ]
  },
  {
   "cell_type": "code",
   "execution_count": 449,
   "metadata": {},
   "outputs": [],
   "source": [
    "T = torch.from_numpy(np.array(X))"
   ]
  },
  {
   "cell_type": "code",
   "execution_count": 452,
   "metadata": {},
   "outputs": [],
   "source": [
    "predictions = model(T.float())"
   ]
  },
  {
   "cell_type": "code",
   "execution_count": 453,
   "metadata": {},
   "outputs": [
    {
     "data": {
      "text/plain": [
       "torch.Size([995, 1])"
      ]
     },
     "execution_count": 453,
     "metadata": {},
     "output_type": "execute_result"
    }
   ],
   "source": [
    "predictions.shape"
   ]
  },
  {
   "cell_type": "code",
   "execution_count": 458,
   "metadata": {},
   "outputs": [
    {
     "data": {
      "text/plain": [
       "<matplotlib.legend.Legend at 0x7f30a64b6be0>"
      ]
     },
     "execution_count": 458,
     "metadata": {},
     "output_type": "execute_result"
    },
    {
     "data": {
      "image/png": "[encoded data removed]",
      "text/plain": [
       "<Figure size 432x288 with 1 Axes>"
      ]
     },
     "metadata": {
      "needs_background": "light"
     },
     "output_type": "display_data"
    }
   ],
   "source": [
    "fig, ax1 = plt.subplots(nrows=1) #, figsize=(15, 10))\n",
    "ax1.plot(x, label='data')\n",
    "ax1.plot(predictions.detach().numpy(), label='predictions')\n",
    "lines, labels = ax1.get_legend_handles_labels()\n",
    "ax1.legend(lines, labels, loc='best')"
   ]
  },
  {
   "cell_type": "code",
   "execution_count": null,
   "metadata": {},
   "outputs": [],
   "source": []
  }
 ],
 "metadata": {
  "kernelspec": {
   "display_name": "Python 3",
   "language": "python",
   "name": "python3"
  },
  "language_info": {
   "codemirror_mode": {
    "name": "ipython",
    "version": 3
   },
   "file_extension": ".py",
   "mimetype": "text/x-python",
   "name": "python",
   "nbconvert_exporter": "python",
   "pygments_lexer": "ipython3",
   "version": "3.7.3"
  },
  "toc-autonumbering": true
 },
 "nbformat": 4,
 "nbformat_minor": 4
}
