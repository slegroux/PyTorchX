{
 "cells": [
  {
   "cell_type": "code",
   "execution_count": 61,
   "metadata": {},
   "outputs": [],
   "source": [
    "import torch\n",
    "from torch.utils import data\n",
    "import numpy as np\n",
    "from matplotlib import pyplot as plt\n",
    "%matplotlib inline"
   ]
  },
  {
   "cell_type": "markdown",
   "metadata": {},
   "source": [
    "# Time varying signal"
   ]
  },
  {
   "cell_type": "code",
   "execution_count": 51,
   "metadata": {},
   "outputs": [
    {
     "data": {
      "text/plain": [
       "[<matplotlib.lines.Line2D at 0x7f30cacb2550>]"
      ]
     },
     "execution_count": 51,
     "metadata": {},
     "output_type": "execute_result"
    },
    {
     "data": {
      "image/png": "[encoded data removed]",
      "text/plain": [
       "<Figure size 432x288 with 1 Axes>"
      ]
     },
     "metadata": {
      "needs_background": "light"
     },
     "output_type": "display_data"
    }
   ],
   "source": [
    "N = 1000\n",
    "t = np.arange(N)\n",
    "x = np.sin(0.01*t) + 0.2 * np.random.normal(size=N)\n",
    "plt.plot(x)"
   ]
  },
  {
   "cell_type": "markdown",
   "metadata": {},
   "source": [
    "$$y_t = data_t, x_t = data_{t-1}... data_{t-1-M}$$"
   ]
  },
  {
   "cell_type": "markdown",
   "metadata": {},
   "source": [
    "# Define features & labels"
   ]
  },
  {
   "cell_type": "markdown",
   "metadata": {},
   "source": [
    "- input is a history of points of size k: $x[0:k]$\n",
    "- output is the point at time k+1 given k points: $x[k]$"
   ]
  },
  {
   "cell_type": "code",
   "execution_count": 52,
   "metadata": {},
   "outputs": [
    {
     "name": "stdout",
     "output_type": "stream",
     "text": [
      "1 11\n",
      "[ 0.1580547   0.09277265  0.15995928 -0.26619265  0.09997692  0.17304537\n",
      "  0.16506549 -0.04168923  0.06265304  0.14518473]\n",
      "1 12\n",
      "[ 0.1580547   0.09277265  0.15995928 -0.26619265  0.09997692  0.17304537\n",
      "  0.16506549 -0.04168923  0.06265304  0.14518473 -0.02147971]\n",
      "11\n",
      "-0.02147971173572076\n"
     ]
    }
   ],
   "source": [
    "M = 10\n",
    "i = 1\n",
    "# history of 10 for signal x: x[0:10]\n",
    "print(i, i+M)\n",
    "print(x[i:i + (M)])\n",
    "print(i, i+(M+1))\n",
    "print(x[i:i + (M+1)])\n",
    "print(i+M)\n",
    "print(x[i+M])"
   ]
  },
  {
   "cell_type": "code",
   "execution_count": 53,
   "metadata": {},
   "outputs": [],
   "source": [
    "X = []\n",
    "y = []\n",
    "for i in range(0, N-M):\n",
    "    X.append(x[i:(i+M)])\n",
    "    y.append(x[i+M])"
   ]
  },
  {
   "cell_type": "code",
   "execution_count": 58,
   "metadata": {},
   "outputs": [
    {
     "name": "stdout",
     "output_type": "stream",
     "text": [
      "[ 0.00676833  0.1580547   0.09277265  0.15995928 -0.26619265  0.09997692\n",
      "  0.17304537  0.16506549 -0.04168923  0.06265304] 0.14518473451656394\n",
      "[ 0.1580547   0.09277265  0.15995928 -0.26619265  0.09997692  0.17304537\n",
      "  0.16506549 -0.04168923  0.06265304  0.14518473] -0.02147971173572076\n"
     ]
    }
   ],
   "source": [
    "print(X[0],y[0])\n",
    "print(X[1],y[1])"
   ]
  },
  {
   "cell_type": "markdown",
   "metadata": {},
   "source": [
    "# Create pytorch dataset"
   ]
  },
  {
   "cell_type": "markdown",
   "metadata": {},
   "source": [
    "this will allow use to use pytorch dataloader class to define batches and potentially paralellize processing per batch"
   ]
  },
  {
   "cell_type": "code",
   "execution_count": null,
   "metadata": {},
   "outputs": [],
   "source": [
    "class TimeDataset(data.Dataset):\n",
    "  'Characterizes a dataset for PyTorch'\n",
    "  def __init__(self, features, labels):\n",
    "        'Initialization'\n",
    "        self.labels = labels\n",
    "        self.features = features\n",
    "        \n",
    "  def __len__(self):\n",
    "        'Denotes the total number of samples'\n",
    "        return len(self.features)\n",
    "\n",
    "  def __getitem__(self, index):\n",
    "        'Generates one sample of data'\n",
    "        # Select sample\n",
    "        sample = self.features[index]\n",
    "\n",
    "        # Load data and get label\n",
    "        X = self.features[index]\n",
    "        y = self.labels[index]\n",
    "\n",
    "        return X, y"
   ]
  }
 ],
 "metadata": {
  "kernelspec": {
   "display_name": "Python 3",
   "language": "python",
   "name": "python3"
  },
  "language_info": {
   "codemirror_mode": {
    "name": "ipython",
    "version": 3
   },
   "file_extension": ".py",
   "mimetype": "text/x-python",
   "name": "python",
   "nbconvert_exporter": "python",
   "pygments_lexer": "ipython3",
   "version": "3.7.3"
  }
 },
 "nbformat": 4,
 "nbformat_minor": 4
}
